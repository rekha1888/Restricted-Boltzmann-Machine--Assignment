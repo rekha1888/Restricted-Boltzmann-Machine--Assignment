{
 "cells": [
  {
   "cell_type": "markdown",
   "metadata": {},
   "source": [
    "# Restricted Boltzman Machine \n",
    "\n",
    "A restricted Boltzmann Machine is an \"Energy Based\" generative stochastic model. They were initially invented by Paul Smolensky in 1986 and were called \"Harmonium\". After the evolution of training algorithms in the mid 2000's by Geoffrey Hinton, the boltzman machine became more prominent. They gained big popularity in recent years in the context of the Netflix Prize where RBMs achieved state of the art performance in collaborative filtering and have beaten most of the competition.\n",
    "\n",
    "RBM's are useful for dimensionality reduction, classification, regression, collaborative filtering, feature learning and topic modeling. \n"
   ]
  },
  {
   "cell_type": "markdown",
   "metadata": {},
   "source": [
    "## Architecture\n",
    "RBMs are shallow, two-layer neural nets that constitute the building blocks of deep-belief networks. The first layer of the RBM is called the visible, or input, layer, and the second is the hidden layer. The absense of an output layer is apparent. As we move forward we would learn why the output layer won't be needed.\n",
    "<img src=\"figure1.png\" width=\"150\" height=\"50\" title=\"Layers in RBM\">\n",
    "Figure1: Layers in RBM\n",
    "Each circle in the figure above represents a neuron-like unit called a node, and nodes are simply where calculations take place. \n",
    "<img src=\"figure3.png\" width=\"500\" height=\"200\" title=\"Layers in RBM\">\n",
    "Figure2: Structure of RBM\n",
    "The nodes are connected to each other across layers, but no two nodes of the same layer are linked. That is, there is no intra-layer communication – this is the restriction in a restricted Boltzmann machine. Each node is a locus of computation that processes input, and begins by making stochastic decisions about whether to transmit that input or not. Each visible node takes a low-level feature from an item in the dataset to be learned."
   ]
  },
  {
   "cell_type": "markdown",
   "metadata": {},
   "source": [
    "Let's start by importing the packages that will be required in this project."
   ]
  },
  {
   "cell_type": "code",
   "execution_count": 1,
   "metadata": {},
   "outputs": [],
   "source": [
    "import numpy as np\n",
    "from collections import Counter, defaultdict\n",
    "import pandas as pd\n",
    "from scipy.sparse import coo_matrix, hstack\n",
    "from sklearn.feature_extraction.text import CountVectorizer\n",
    "np_rng = np.random.RandomState(1234) #setting the random state"
   ]
  },
  {
   "cell_type": "code",
   "execution_count": 2,
   "metadata": {},
   "outputs": [],
   "source": [
    "# graded\n",
    "# import data\n",
    "\n",
    "df = pd.read_excel(\"amazon.xlsx\", encoding = \"ISO-8859-1\")"
   ]
  },
  {
   "cell_type": "code",
   "execution_count": 3,
   "metadata": {},
   "outputs": [
    {
     "data": {
      "text/html": [
       "<div>\n",
       "<style scoped>\n",
       "    .dataframe tbody tr th:only-of-type {\n",
       "        vertical-align: middle;\n",
       "    }\n",
       "\n",
       "    .dataframe tbody tr th {\n",
       "        vertical-align: top;\n",
       "    }\n",
       "\n",
       "    .dataframe thead th {\n",
       "        text-align: right;\n",
       "    }\n",
       "</style>\n",
       "<table border=\"1\" class=\"dataframe\">\n",
       "  <thead>\n",
       "    <tr style=\"text-align: right;\">\n",
       "      <th></th>\n",
       "      <th>Text</th>\n",
       "    </tr>\n",
       "  </thead>\n",
       "  <tbody>\n",
       "    <tr>\n",
       "      <th>0</th>\n",
       "      <td>So there is no way for me to plug it in here i...</td>\n",
       "    </tr>\n",
       "    <tr>\n",
       "      <th>1</th>\n",
       "      <td>Good case, Excellent value.</td>\n",
       "    </tr>\n",
       "    <tr>\n",
       "      <th>2</th>\n",
       "      <td>Great for the jawbone.</td>\n",
       "    </tr>\n",
       "    <tr>\n",
       "      <th>3</th>\n",
       "      <td>Tied to charger for conversations lasting more...</td>\n",
       "    </tr>\n",
       "    <tr>\n",
       "      <th>4</th>\n",
       "      <td>The mic is great.</td>\n",
       "    </tr>\n",
       "  </tbody>\n",
       "</table>\n",
       "</div>"
      ],
      "text/plain": [
       "                                                Text\n",
       "0  So there is no way for me to plug it in here i...\n",
       "1                        Good case, Excellent value.\n",
       "2                             Great for the jawbone.\n",
       "3  Tied to charger for conversations lasting more...\n",
       "4                                  The mic is great."
      ]
     },
     "execution_count": 3,
     "metadata": {},
     "output_type": "execute_result"
    }
   ],
   "source": [
    "#run this and check if you have got the correct output\n",
    "df.head()"
   ]
  },
  {
   "cell_type": "markdown",
   "metadata": {},
   "source": [
    "In Topic Modelling, you find the best set of topics that describe the document. There are various ways to perform topic modelling one of which is RBM. You train your RBM on a set of documents. \n",
    "The visible layers will be the words in the text, the hidden layers will give the Topics. \n",
    "To input words into the visible layer, let's convert the train and test data you split above into a bag of words model."
   ]
  },
  {
   "cell_type": "code",
   "execution_count": 4,
   "metadata": {},
   "outputs": [],
   "source": [
    "#graded\n",
    "# create bag of words model on train and test data\n",
    "tf = CountVectorizer(input='content', strip_accents='ascii', stop_words=None,\n",
    "                lowercase=True, tokenizer=None,  analyzer='word', decode_error='strict',\n",
    "                max_df=0.05, min_df=1)\n",
    "\n",
    "# fit tf on the dataframe df\n",
    "tf.fit(df['Text'])\n",
    "\n",
    "# transform df dataframe\n",
    "trainX = tf.transform(df['Text'])"
   ]
  },
  {
   "cell_type": "code",
   "execution_count": 5,
   "metadata": {},
   "outputs": [
    {
     "name": "stdout",
     "output_type": "stream",
     "text": [
      "<class 'scipy.sparse.csr.csr_matrix'>\n",
      "************\n",
      "  (0, 232)\t1\n",
      "  (0, 366)\t1\n",
      "  (0, 709)\t1\n",
      "  (0, 757)\t1\n",
      "  (0, 985)\t1\n",
      "  (0, 1065)\t1\n",
      "  (0, 1199)\t1\n",
      "  (0, 1477)\t1\n",
      "  (0, 1593)\t1\n",
      "  (0, 1684)\t1\n",
      "  (0, 1696)\t1\n",
      "  (0, 1746)\t1\n",
      "  (1, 258)\t1\n",
      "  (1, 568)\t1\n",
      "  (1, 1715)\t1\n",
      "  (2, 856)\t1\n",
      "  (3, 20)\t1\n",
      "  (3, 280)\t1\n",
      "  (3, 365)\t1\n",
      "  (3, 893)\t1\n",
      "  (3, 969)\t1\n",
      "  (3, 1013)\t1\n",
      "  (3, 1025)\t1\n",
      "  (3, 1232)\t1\n",
      "  (3, 1585)\t1\n",
      "  :\t:\n",
      "  (996, 239)\t1\n",
      "  (996, 863)\t1\n",
      "  (996, 947)\t1\n",
      "  (996, 1025)\t1\n",
      "  (996, 1178)\t1\n",
      "  (996, 1761)\t1\n",
      "  (997, 473)\t1\n",
      "  (997, 850)\t1\n",
      "  (997, 981)\t1\n",
      "  (997, 1176)\t1\n",
      "  (998, 452)\t1\n",
      "  (998, 823)\t1\n",
      "  (998, 846)\t1\n",
      "  (998, 985)\t1\n",
      "  (998, 1097)\t1\n",
      "  (998, 1208)\t1\n",
      "  (998, 1309)\t1\n",
      "  (998, 1598)\t1\n",
      "  (999, 94)\t1\n",
      "  (999, 239)\t1\n",
      "  (999, 242)\t1\n",
      "  (999, 1056)\t1\n",
      "  (999, 1093)\t1\n",
      "  (999, 1681)\t1\n",
      "  (999, 1803)\t1\n"
     ]
    }
   ],
   "source": [
    "print(type(trainX))\n",
    "print(\"************\")\n",
    "print(trainX)"
   ]
  },
  {
   "cell_type": "code",
   "execution_count": 6,
   "metadata": {},
   "outputs": [
    {
     "name": "stdout",
     "output_type": "stream",
     "text": [
      "Good case, Excellent value.   ######### sentence has words =  3\n",
      "I went on Motorola's website and followed all directions, but could not get it to pair again.  ######### sentence has words =  11\n",
      "It has a great camera thats 2MP, and the pics are nice and clear with great picture quality.  ######### sentence has words =  10\n"
     ]
    }
   ],
   "source": [
    "print(df['Text'][1] , '  ######### sentence has words = ' ,sum(trainX.toarray()[1]))\n",
    "print(df['Text'][20] , ' ######### sentence has words = ' ,sum(trainX.toarray()[20]))\n",
    "print(df['Text'][40] , ' ######### sentence has words = ' ,sum(trainX.toarray()[40]))"
   ]
  },
  {
   "cell_type": "code",
   "execution_count": 7,
   "metadata": {},
   "outputs": [
    {
     "name": "stdout",
     "output_type": "stream",
     "text": [
      "3\n"
     ]
    },
    {
     "data": {
      "text/plain": [
       "(1000, 1825)"
      ]
     },
     "execution_count": 7,
     "metadata": {},
     "output_type": "execute_result"
    }
   ],
   "source": [
    "#check if you are getting the correct output\n",
    "print(sum(trainX.toarray()[1]))\n",
    "trainX.shape"
   ]
  },
  {
   "cell_type": "markdown",
   "metadata": {},
   "source": [
    "You should get:\n",
    "<br>\n",
    "\n",
    "3 <br>\n",
    "(1000, 1825)"
   ]
  },
  {
   "cell_type": "markdown",
   "metadata": {},
   "source": [
    "Now that you have the bag of words model, let's define the number of visible and hidden units."
   ]
  },
  {
   "cell_type": "code",
   "execution_count": 8,
   "metadata": {},
   "outputs": [
    {
     "name": "stdout",
     "output_type": "stream",
     "text": [
      "['10', '100', '11', '12', '13', '15', '15g', '18', '20', '2000', '2005', '2160', '24', '2mp', '325', '350', '375', '3o', '42', '44', '45', '4s', '50', '5020', '510', '5320', '680', '700w', '8125', '8525', '8530', 'abhor', 'ability', 'able', 'abound', 'about', 'above', 'absolutel', 'absolutely', 'ac', 'accept', 'acceptable', 'access', 'accessable', 'accessing', 'accessory', 'accessoryone', 'accidentally', 'accompanied', 'according', 'activate', 'activated', 'activesync', 'actually', 'ad', 'adapter', 'adapters', 'add', 'addition', 'additional', 'address', 'adhesive', 'adorable', 'advertised', 'advise', 'after', 'again', 'against', 'aggravating', 'ago', 'alarm', 'all', 'allot', 'allow', 'allowing', 'allows', 'almost', 'alone', 'along', 'alot', 'also', 'although', 'aluminum', 'always', 'am', 'amazed', 'amazing', 'amazon', 'amp', 'ample', 'an', 'angeles', 'angle', 'another', 'answer', 'ant', 'antena', 'anti', 'any', 'anyone', 'anything', 'anyway', 'anywhere', 'apart', 'apartment', 'apparently', 'appealing', 'appearance', 'appears', 'applifies', 'appointments', 'are', 'area', 'arguing', 'armband', 'around', 'arrival', 'arrived', 'as', 'asia', 'ask', 'aspect', 'assumed', 'at', 'atleast', 'att', 'attacked', 'attractive', 'audio', 'authentic', 'auto', 'available', 'average', 'avoid', 'avoiding', 'away', 'awesome', 'awful', 'awkward', 'awsome', 'back', 'background', 'backlight', 'bad', 'balance', 'bar', 'barely', 'bargain', 'bars', 'basement', 'basic', 'basically', 'batteries', 'battery', 'be', 'beat', 'beats', 'beautiful', 'because', 'bed', 'been', 'beep', 'beeping', 'before', 'behing', 'being', 'believe', 'bells', 'below', 'belt', 'bend', 'best', 'better', 'between', 'beware', 'big', 'biggest', 'bills', 'bit', 'bitpim', 'black', 'blackberry', 'blacktop', 'bland', 'blew', 'blue', 'blueant', 'bluetoooth', 'bluetooth', 'bluetooths', 'bmw', 'book', 'booking', 'boost', 'boot', 'bose', 'both', 'bother', 'bottom', 'bottowm', 'bought', 'bougth', 'boy', 'brand', 'break', 'breakage', 'breaking', 'breaks', 'brilliant', 'broke', 'broken', 'browser', 'browsing', 'bt', 'bt250v', 'bt50', 'bubbling', 'bucks', 'buds', 'build', 'built', 'bulky', 'bumpers', 'but', 'button', 'buttons', 'buy', 'buyer', 'buyers', 'buying', 'buyit', 'buzzing', 'by', 'ca', 'cable', 'cables', 'calendar', 'call', 'called', 'calls', 'came', 'camera', 'can', 'canal', 'cancellation', 'cancelling', 'cannot', 'cant', 'capability', 'capacity', 'car', 'card', 'care', 'careful', 'carried', 'carriers', 'carries', 'carry', 'case', 'cases', 'casing', 'cassette', 'cat', 'catching', 'caused', 'causing', 'cbr', 'cds', 'cell', 'cellphone', 'cellphones', 'cellular', 'cent', 'center', 'certain', 'certainly', 'changing', 'channel', 'charge', 'charged', 'charger', 'chargers', 'charges', 'charging', 'charm', 'cheap', 'cheaper', 'cheaply', 'cheapy', 'check', 'checked', 'child', 'china', 'chinese', 'choice', 'choices', 'christmas', 'cingulair', 'cingular', 'clarity', 'classy', 'clear', 'clearer', 'clearly', 'clever', 'clicks', 'clip', 'clipping', 'clips', 'clock', 'colleague', 'color', 'colored', 'colors', 'combination', 'come', 'comes', 'comfort', 'comfortable', 'comfortably', 'comfortible', 'coming', 'comments', 'commercials', 'communicate', 'communication', 'communications', 'commuter', 'company', 'comparably', 'compared', 'compete', 'competitors', 'complain', 'complained', 'complaint', 'complaints', 'completely', 'compliments', 'compromise', 'computer', 'concrete', 'conditions', 'confortable', 'confusing', 'connect', 'connected', 'connecting', 'connection', 'constantly', 'constructed', 'construction', 'consumer', 'contact', 'contacted', 'contacting', 'contacts', 'continue', 'continues', 'contract', 'control', 'controls', 'contstruct', 'convenient', 'conversation', 'conversations', 'converter', 'cool', 'copier', 'copy', 'corded', 'correctly', 'cost', 'costs', 'could', 'couldn', 'couldnt', 'counter', 'counterfeit', 'couple', 'coupon', 'course', 'cover', 'coverage', 'covered', 'crack', 'cracked', 'cradle', 'cradles', 'crap', 'crappy', 'crashed', 'crawl', 'creaks', 'crisp', 'cumbersome', 'current', 'currently', 'curve', 'customer', 'cut', 'cute', 'cutouts', 'cuts', 'd807', 'damage', 'darn', 'data', 'date', 'day', 'days', 'dead', 'deaf', 'deal', 'decade', 'decent', 'decision', 'defeats', 'defect', 'defective', 'deffinitely', 'definitely', 'definitly', 'delay', 'delivery', 'describe', 'described', 'description', 'design', 'designed', 'designs', 'despite', 'destination', 'destroying', 'detachable', 'detailed', 'development', 'device', 'devices', 'dialing', 'did', 'didn', 'died', 'dieing', 'different', 'difficult', 'directed', 'directions', 'directly', 'dirty', 'disapoinment', 'disapointing', 'disappoint', 'disappointed', 'disappointing', 'disappointment', 'discarded', 'discomfort', 'disconnected', 'discount', 'disgusting', 'display', 'displeased', 'disposable', 'dissapointed', 'dissapointing', 'distorted', 'distracting', 'dit', 'division', 'dna', 'do', 'docking', 'does', 'doesn', 'doing', 'dollar', 'don', 'done', 'dont', 'double', 'down', 'download', 'downloading', 'dozen', 'dozens', 'drain', 'drained', 'drains', 'drawback', 'driving', 'drivng', 'droid', 'drop', 'dropped', 'dropping', 'drops', 'dual', 'due', 'durable', 'during', 'dustpan', 'dying', 'e2', 'e715', 'each', 'ear', 'earbud', 'earbuds', 'earbugs', 'eargels', 'earlier', 'earpad', 'earphone', 'earphones', 'earpiece', 'earpieces', 'ears', 'earset', 'ease', 'easier', 'easily', 'easy', 'echo', 'edge', 'effect', 'effective', 'effects', 'effort', 'either', 'electronics', 'elegant', 'else', 'elsewhere', 'embarassing', 'embarrassing', 'embedded', 'encourage', 'end', 'ended', 'ends', 'engineered', 'enjoy', 'enough', 'enter', 'entertainment', 'entire', 'env', 'equipment', 'era', 'ergonomic', 'ericson', 'ericsson', 'especially', 'essentially', 'etc', 'europe', 'even', 'eventually', 'ever', 'every', 'everyday', 'everyone', 'everything', 'everywhere', 'exactly', 'exceeds', 'excelent', 'excellent', 'excels', 'except', 'exceptional', 'excessive', 'exchange', 'exchanged', 'excited', 'exclaim', 'excrutiatingly', 'exercise', 'existing', 'expect', 'expectations', 'expected', 'expensive', 'experience', 'experienced', 'explain', 'extended', 'exterior', 'external', 'extra', 'extremely', 'eye', 'fabulous', 'face', 'faceplates', 'fact', 'factor', 'failed', 'fails', 'fairly', 'fall', 'falling', 'falls', 'family', 'fantastic', 'far', 'fast', 'faster', 'father', 'favorite', 'feature', 'features', 'fee', 'feel', 'feels', 'feet', 'felt', 'few', 'fi', 'figure', 'file', 'finally', 'find', 'finds', 'fine', 'fingers', 'finished', 'fire', 'first', 'fit', 'fits', 'five', 'fixes', 'flash', 'flaw', 'flawed', 'flawless', 'flawlessly', 'flaws', 'flimsy', 'flip', 'flipphones', 'fliptop', 'floor', 'floppy', 'flops', 'flush', 'fm', 'followed', 'fond', 'fooled', 'forced', 'forever', 'forgeries', 'forget', 'forgot', 'form', 'found', 'four', 'fourth', 'fraction', 'free', 'freedom', 'freeway', 'freezes', 'frequently4', 'frequentyly', 'friendly', 'friends', 'frog', 'from', 'front', 'frustration', 'fry', 'ft', 'fulfills', 'full', 'fully', 'fun', 'function', 'functional', 'functionality', 'functions', 'funny', 'gadget', 'gadgets', 'games', 'garbage', 'garbled', 'gave', 'geeky', 'gels', 'generally', 'gentle', 'genuine', 'get', 'gets', 'getting', 'gimmick', 'girl', 'give', 'given', 'giving', 'glad', 'glare', 'glasses', 'glove', 'glued', 'go', 'goes', 'going', 'gonna', 'good7', 'gosh', 'got', 'gotten', 'graphics', 'greater', 'grey', 'grip', 'grtting', 'guess', 'gx2', 'h500', 'had', 'hair', 'hand', 'handheld', 'hands', 'handset', 'handsfree', 'handy', 'happened', 'happening', 'happens', 'happier', 'happy', 'hard', 'hardly', 'has', 'hat', 'hate', 'hated', 'haul', 'haven', 'having', 'he', 'headbands', 'headphones', 'headset', 'headsets', 'hear', 'hearing', 'heavy', 'help', 'helpful', 'here', 'hey', 'high', 'highest', 'highly', 'highy', 'hinge', 'hit', 'hitch', 'hold', 'holder', 'holding', 'holds', 'holster', 'home', 'hook', 'hoped', 'hoping', 'horrible', 'hot', 'hour', 'hours', 'hoursthe', 'house', 'how', 'however', 'hs850', 'huge', 'humans', 'humming', 'hundred', 'hurt', 'hybrid', 'hype', 'iam', 'idea', 'ideal', 'if', 'igo', 'ill', 'im', 'imac', 'images', 'imagine', 'immediately', 'important', 'impossible', 'impressed', 'impressive', 'improper', 'improve', 'improvement', 'inches', 'included', 'incoming', 'inconspicuous', 'increase', 'incrediable', 'incredible', 'incredibly', 'indoors', 'industrial', 'inexcusable', 'inexpensive', 'infatuated', 'inform', 'infra', 'infuriating', 'insert', 'inside', 'install', 'installed', 'instance', 'instead', 'instruction', 'instructions', 'integrated', 'intended', 'interested', 'interface', 'intermittently', 'internet', 'into', 'invented', 'investment', 'iphone', 'ipod', 'ipods', 'ir', 'irda', 'iriver', 'isn', 'issues', 'item', 'items', 'its', 'jabra', 'jabra350', 'jack', 'jawbone', 'jerks', 'jiggle', 'job', 'joke', 'joy', 'juice', 'junk', 'just', 'jx', 'keen', 'keep', 'keeping', 'keeps', 'kept', 'key', 'keyboard', 'keypad', 'keypads', 'keys', 'killer', 'kind', 'kindle', 'kitchen', 'kits', 'knock', 'know', 'knows', 'krussel', 'l7c', 'lacking', 'land', 'lap', 'laptop', 'large', 'last', 'lasted', 'lasting', 'lasts', 'latch', 'lately', 'later', 'latest', 'laughing', 'leaf', 'leaks', 'learned', 'least', 'leather', 'left', 'lense', 'leopard', 'less', 'lesson', 'let', 'letting', 'lg', 'life', 'light', 'lightly', 'lights', 'lightweight', 'like', 'liked', 'likes', 'line', 'linked', 'linking', 'linksys', 'listener', 'listening', 'lit', 'literally', 'little', 'living', 'll', 'loads', 'lock', 'locked', 'locks', 'logitech', 'long', 'longer', 'look', 'looking', 'looks', 'loop', 'loops', 'loose', 'looses', 'los', 'lose', 'lost', 'lot', 'lots', 'loud', 'louder', 'loudest', 'loudspeaker', 'lousy', 'love', 'loved', 'loves', 'low', 'luck', 'machine', 'made', 'magical', 'magnetic', 'mail', 'mainly', 'maintain', 'maintains', 'major', 'majority', 'make', 'makes', 'making', 'managed', 'management', 'manual', 'manufacturer', 'many', 'mark', 'market', 'match', 'material', 'max', 'may', 'me', 'means', 'mechanism', 'media', 'mediocre', 'mega', 'megapixels', 'memory', 'mention', 'mentioned', 'menus', 'mere', 'mess', 'message', 'messages', 'messaging', 'messes', 'metal', 'metro', 'mic', 'microphone', 'microsoft', 'might', 'mind', 'mine', 'mini', 'mins', 'minute', 'minutes', 'misleading', 'missed', 'mistake', 'mobile', 'mode', 'model', 'modest', 'money', 'monkeys', 'month', 'months', 'more', 'morning', 'most', 'mostly', 'mother', 'moto', 'motor', 'motorola', 'motorolas', 'moving', 'mp3', 'mp3s', 'much', 'muddy', 'muffled', 'multiple', 'music', 'must', 'mute', 'nano', 'navigate', 'near', 'nearly', 'neat', 'need', 'needed', 'needless', 'needs', 'negatively', 'neither', 'network', 'never', 'new', 'next', 'ngage', 'nice', 'nicely', 'nicer', 'night', 'nightmare', 'no', 'noise', 'noises', 'nokia', 'none', 'normal', 'normally', 'note', 'noted', 'nothing', 'notice', 'noticed', 'now', 'number', 'numbers', 'numerous', 'nyc', 'obviously', 'occupied', 'odd', 'oem', 'off', 'offering', 'offers', 'official', 'oh', 'ok', 'old', 'once', 'one', 'ones', 'online', 'only', 'oozes', 'open', 'opens', 'operate', 'operates', 'optimal', 'option', 'options', 'or', 'order', 'ordered', 'ordering', 'orders', 'organizational', 'original', 'originally', 'os', 'other', 'others', 'otherwise', 'our', 'out', 'outgoing', 'outlet', 'outperform', 'outside', 'over', 'overall', 'overly', 'overnight', 'overnite', 'override', 'own', 'owned', 'owner', 'owning', 'pack', 'package', 'packaged', 'pad', 'pads', 'pain', 'painful', 'pair', 'paired', 'pairing', 'palm', 'palms', 'palmtop', 'pants', 'part', 'particular', 'party', 'passed', 'patient', 'pause', 'pay', 'pc', 'pcs', 'pda', 'peachy', 'peeling', 'penny', 'pens', 'people', 'perfect', 'perfectly', 'performance', 'performed', 'performing', 'perhaps', 'periodically', 'periods', 'person', 'petroleum', 'phones', 'photo', 'pics', 'picture', 'pictures', 'piece', 'pitiful', 'pixel', 'place', 'placed', 'places', 'plan', 'planning', 'plans', 'plantronics', 'plantronincs', 'plastic', 'play', 'player', 'players', 'plays', 'pleasantly', 'please', 'pleased', 'pleather', 'plenty', 'plug', 'plugged', 'plugs', 'plus', 'pocket', 'pockets', 'point', 'poor', 'poorly', 'port', 'portable', 'portraits', 'possesed', 'possibility', 'posted', 'potentially', 'power', 'practical', 'practically', 'practice', 'preferably', 'premium', 'prettier', 'pretty', 'prevents', 'previous', 'price', 'priced', 'pricing', 'prime', 'print', 'probably', 'problem', 'problems', 'procedure', 'procedures', 'produce', 'products', 'program', 'promised', 'prompt', 'promptly', 'properly', 'pros', 'protected', 'protection', 'protective', 'protector', 'protects', 'provide', 'provided', 'provides', 'ps3', 'psyched', 'puff', 'pull', 'purcashed', 'purchase', 'purchased', 'purchases', 'purchasing', 'purpose', 'push', 'pushed', 'put', 'quality', 'quick', 'quickly', 'quiet', 'quit', 'quite', 'qwerty', 'r450', 'randomly', 'range', 'rare', 'rate', 'rated', 'rather', 'rating', 'razor', 'razr', 're', 'reach', 'reaching', 'read', 'reading', 'ready', 'real', 'realize', 'really', 'reason', 'reasonable', 'reasonably', 'reboots', 'reccomendation', 'reccommend', 'receipt', 'receive', 'received', 'receiving', 'recently', 'reception', 'recessed', 'recharge', 'recieve', 'recognition', 'recognizes', 'recommend', 'recommended', 'red', 'refund', 'refurb', 'refuse', 'refused', 'regarding', 'regret', 'regretted', 'relative', 'relatively', 'reliability', 'remorse', 'removing', 'renders', 'reoccure', 'replace', 'replaced', 'replacement', 'replacementr', 'requirements', 'research', 'resistant', 'resolution', 'respect', 'rest', 'restart', 'restocking', 'restored', 'rests', 'results', 'return', 'returned', 'returning', 'reverse', 'reversible', 'review', 'reviews', 'ride', 'right', 'riingtones', 'ring', 'ringer', 'ringing', 'ringtones', 'rip', 'ripped', 'risk', 'roam', 'rocketed', 'rocks', 'roles', 'room', 'rotating', 'row', 'rubber', 'run', 'runs', 's11', 's710a', 'saggy', 'said', 'same', 'samsung', 'sanyo', 'satisfied', 'satisifed', 'save', 'saved', 'say', 'saying', 'says', 'scary', 'sch', 'scratch', 'scratched', 'screen', 'screens', 'seamlessly', 'searched', 'seat', 'seconds', 'secure', 'securely', 'securly', 'see', 'seeen', 'seem', 'seemed', 'seems', 'seen', 'self', 'seller', 'send', 'sending', 'sensitive', 'sensor', 'sent', 'seperated', 'series', 'seriously', 'service', 'set', 'setting', 'setup', 'several', 'severe', 'sex', 'shape', 'share', 'sharp', 'she', 'shield', 'shifting', 'shine', 'shiny', 'shipment', 'shipped', 'shipping', 'shooters', 'short', 'shots', 'should', 'shouldn', 'shouldve', 'shouting', 'show', 'shows', 'side', 'sides', 'sight', 'signal', 'signals', 'significantly', 'signs', 'sim', 'simple', 'simpler', 'simply', 'since', 'sins', 'sister', 'sitting', 'situations', 'size', 'sizes', 'sketchy', 'skip', 'skype', 'sleek', 'slid', 'slide', 'slider', 'sliding', 'slim', 'slipping', 'slow', 'slowly', 'small', 'smallest', 'smartphone', 'smell', 'smoke', 'smoking', 'smoother', 'smoothly', 'smudged', 'snap', 'snug', 'so', 'soft', 'software', 'sold', 'solid', 'some', 'somehow', 'someone', 'something', 'sometimes', 'somewhat', 'somewhere', 'son', 'songs', 'sony', 'soon', 'sooner', 'sorry', 'sos', 'sound', 'sounded', 'sounds', 'source', 'sources', 'soyo', 'span', 'speaker', 'speakerphone', 'specially', 'specs', 'speed', 'spinn', 'spring', 'sprint', 'stand', 'standard', 'star', 'stars', 'startac', 'started', 'starter', 'starts', 'state', 'stated', 'static', 'station', 'stay', 'stays', 'steep', 'steer', 'stereo', 'still', 'stop', 'stopped', 'stops', 'storage', 'store', 'strange', 'strap', 'stream', 'strength', 'stress', 'strip', 'strong', 'stuck', 'study', 'stuff', 'stupid', 'sturdiness', 'sturdy', 'styles', 'styling', 'stylish', 'submerged', 'such', 'sucked', 'sucks', 'sudden', 'suddenly', 'sunglasses', 'super', 'superb', 'superfast', 'supertooth', 'support', 'supposedly', 'suprised', 'sure', 'surefire', 'surprised', 'survived', 'sweetest', 'switch', 'swivel', 'sync', 'synchronization', 'take', 'takes', 'talk', 'talking', 'tape', 'tech', 'technology', 'telephone', 'tell', 'terrible', 'texas', 'text', 'than', 'thank', 'thanks', 'thats', 'their', 'them', 'then', 'theory', 'there', 'thereplacement', 'these', 'they', 'thin', 'thing', 'things', 'think', 'third', 'thorn', 'those', 'though', 'thought', 'three', 'threw', 'through', 'thru', 'thumbs', 'tick', 'ticking', 'tied', 'tight', 'time', 'timeframe', 'timely', 'times', 'tinny', 'tiny', 'tips', 'tmobile', 'toactivate', 'toast', 'today', 'together', 'toilet', 'told', 'tone', 'tones', 'too', 'took', 'tool', 'tools', 'tooth', 'top', 'total', 'totally', 'touch', 'touches', 'tracfone', 'tracfonewebsite', 'tracking', 'transceiver', 'transfer', 'transformed', 'transmission', 'transmit', 'transmitters', 'trash', 'travled', 'tremendous', 'treo', 'tricky', 'tried', 'tries', 'trouble', 'truly', 'trunk', 'trust', 'try', 'trying', 'tungsten', 'turn', 'turned', 'turns', 'tv', 'two', 'type', 'ugly', 'unacceptable', 'unacceptible', 'unbearable', 'uncomfortable', 'under', 'understand', 'understanding', 'unfortunately', 'unhappy', 'unintelligible', 'unit', 'units', 'unknown', 'unless', 'unlike', 'unreliable', 'unsatisfactory', 'until', 'unusable', 'up', 'upbeat', 'update', 'upgrade', 'upload', 'upstairs', 'us', 'usable', 'usage', 'usb', 'use', 'used', 'useful', 'usefulness', 'useless', 'user', 'using', 'usually', 'utter', 'utterly', 'v1', 'v265', 'v325i', 'v3c', 'v3i', 'value', 've', 'vehicle', 'verizon', 'via', 'video', 'videos', 'virgin', 'visor', 'voice', 'voltage', 'volume', 'vx', 'vx9900', 'w810i', 'waaay', 'waiting', 'wake', 'walked', 'walkman', 'wall', 'wallet', 'want', 'wanted', 'warning', 'warranty', 'wasn', 'waste', 'wasted', 'wasting', 'waterproof', 'way', 'we', 'weak', 'wear', 'wearing', 'web', 'website', 'websites', 'week', 'weeks', 'weight', 'weird', 'well', 'went', 'were', 'what', 'whatever', 'whatsoever', 'when', 'where', 'whether', 'which', 'while', 'whine', 'whistles', 'white', 'who', 'whoa', 'whole', 'whose', 'wi', 'wife', 'wild', 'will', 'wind', 'window', 'windows', 'winner', 'wiping', 'wire', 'wired', 'wirefly', 'wireless', 'wise', 'wish', 'wit', 'within', 'without', 'wobbly', 'won', 'wonder', 'wonderfully', 'wont', 'wood', 'wooden', 'word', 'work', 'worked', 'working', 'works', 'world', 'worn', 'worst', 'worth', 'worthless', 'worthwhile', 'would', 'wouldn', 'wow', 'wrong', 'wrongly', 'year', 'years', 'yell', 'yes', 'yet', 'your', 'z500a', 'zero']\n"
     ]
    }
   ],
   "source": [
    "vocab =  tf.get_feature_names()\n",
    "print(vocab)"
   ]
  },
  {
   "cell_type": "code",
   "execution_count": 9,
   "metadata": {},
   "outputs": [],
   "source": [
    "#graded\n",
    "# define visible units\n",
    "visibleUnits = len(vocab)# vocabulary size ~1 line\n",
    "\n",
    "# assign number of units\n",
    "hiddenUnits = 5 # hyperparameter, this means that we are looking for 5 topics"
   ]
  },
  {
   "cell_type": "code",
   "execution_count": 10,
   "metadata": {},
   "outputs": [
    {
     "data": {
      "text/plain": [
       "1825"
      ]
     },
     "execution_count": 10,
     "metadata": {},
     "output_type": "execute_result"
    }
   ],
   "source": [
    "visibleUnits"
   ]
  },
  {
   "cell_type": "code",
   "execution_count": 11,
   "metadata": {},
   "outputs": [],
   "source": [
    "#graded\n",
    "# utility Functions\n",
    "\n",
    "# deine the sigmoid function\n",
    "def sigmoid(X):\n",
    "    return (1.0 / (1.0 + np.exp(-1.0*X)))# ~ 1 line"
   ]
  },
  {
   "cell_type": "markdown",
   "metadata": {},
   "source": [
    "## RBM as a Probabilistic Model\n",
    "Restricted Boltzmann Machines are probabilistic. As opposed to assigning discrete values the model assigns probabilities. At each point in time the RBM is in a certain state. The state refers to the values of neurons in the visible and hidden layers v and h. The probability that a certain state of v and h can be observed is given by the following joint distribution:\n",
    "<img src=\"figure4.png\" width=\"200\" height=\"70\" title=\"Layers in RBM\">\n",
    "\n",
    "Eq. 2. Joint Distribution for v and h.\n",
    "Here Z is called the ‘partition function’ that is the summation over all possible pairs of visible and hidden vectors."
   ]
  },
  {
   "cell_type": "markdown",
   "metadata": {},
   "source": [
    "The joint distribution is known as the Boltzmann Distribution which gives the probability that a particle can be observed in the state with the energy E. Unfortunately it is very difficult to calculate the joint probability due to the huge number of possible combination of v and h in the partition function Z. Much easier is the calculation of the conditional probabilities of state h given the state v and conditional probabilities of state v given the state h:\n",
    "<img src=\"figure5.png\" width=\"200\" height=\"70\" title=\"Layers in RBM\">\n",
    "\n",
    "Eq. 3. Conditional probabilities for h and v.\n",
    "It should be noticed beforehand (before demonstrating this fact on practical example) that each neuron in a RBM can only exist in a binary state of 0 or 1. The most interesting factor is the probability that a hidden or visible layer neuron is in the state 1 — hence activated. "
   ]
  },
  {
   "cell_type": "markdown",
   "metadata": {},
   "source": [
    "# Contrastive Divergence\n",
    "\n",
    "### Gibbs Sampling\n",
    "The first part of the training is called Gibbs Sampling. Given an input vector v we are using p(h|v) for prediction of the hidden values h via sampling. Knowing the hidden values we use p(v|h) for prediction of new input values v via sampling. This process is repeated k times. After k iterations, we obtain the visible vector $v_k$ which was recreated from original input values $v_0$.\n",
    "<img src=\"figure8.png\" width=\"500\" height=\"300\" title=\"Layers in RBM\">"
   ]
  },
  {
   "cell_type": "markdown",
   "metadata": {},
   "source": [
    "The gibbs function *gibbs* is divided into subparts: <br>\n",
    "1.*sampleHiddenLayer * <br>\n",
    "2.*sampleVisibleLayer*\n",
    "\n",
    "Let's look at *sampleHiddenLayer* now.\n",
    "\n",
    "### Sample Hidden Layer"
   ]
  },
  {
   "cell_type": "markdown",
   "metadata": {},
   "source": [
    "You already know that given an input vector v the probability for a single hidden neuron j being activated is:\n",
    "<img src=\"figure6.png\" width=\"400\" height=\"200\" title=\"Layers in RBM\">\n",
    "\n",
    "Eq. 4\n",
    "Here is σ the Sigmoid function.\n",
    "\n",
    "*sampleHiddenLayer* takes the visible layer as input to calculate the hidden layer using Eq. 4 *h1Pdf* and then samples it to get * h1_sample*\n",
    "\n",
    "    v_sample: given visible layer matrix; matrix because a batch of data points will be trained at one go\n",
    "    returns a sample vector of hidden layer and its distribution for a batch of data points\n",
    "    \n",
    "    hPdf: distribution of hidden layer; a matrix for batch of datapoints = p(h|v)\n",
    "    h_sample: sampled hidden layer matrix"
   ]
  },
  {
   "cell_type": "code",
   "execution_count": 12,
   "metadata": {},
   "outputs": [],
   "source": [
    "#graded\n",
    "def sampleHiddenLayer(v_sample):\n",
    "    # write the code for calculation of hPdf using vectorized implementation of Eq 4\n",
    "    hPdf = sigmoid(np.dot(v_sample, W) + hiddenBias)# ~ 1 line\n",
    "    \n",
    "    # Here, np.random.binomial is used to create the hidden layer sample matrix\n",
    "    h_sample = np_rng.binomial(size=hPdf.shape, n=1, p=hPdf)\n",
    "    return [hPdf, h_sample]"
   ]
  },
  {
   "cell_type": "markdown",
   "metadata": {},
   "source": [
    "### Sample Visible Layer\n",
    "Similarly, the probability that a binary state of a visible neuron i is set to 1 is:\n",
    "<img src=\"figure7.png\" width=\"400\" height=\"200\" title=\"Layers in RBM\">\n",
    "Eq. 5\n",
    "\n",
    "As seen in equation 5, we will be writing a function to sample the Visible Layer.\n",
    "This function samples the visible layer based on the sampled data of hidden layer. <br>\n",
    "\n",
    "There are some differences in writing the function *sampleVisibleLayer*. <br>Firstly, we use np.random.multinomial to sample the visible layer *v_sample* from the distribution *vPdf*. <br>Secondly,elements of *vPdf* needs to sum to 1 as the function np.random.multinomial used to sample the visible layer takes on probability distributions as *pvals*. In other words, you are finding the softmax values. <br> Thirdly, we also make use of the *D* to sample the visible layer as each document has different word count.\n",
    "    \n",
    "    h_sample: given hidden layer matrix; matrix because a batch of data points will be trained at one go\n",
    "    D: array of the sum of the row of the data vector; vector containing number of words in each document\n",
    "    \n",
    "    returns a sample vector of hidden layer and its distribution for a batch of data points\n",
    "    \n",
    "    vPdf: distribution of visible layer; a matrix for batch of datapoints = p(v|h)\n",
    "    v_sample: sampled visible layer matrix\n",
    "    "
   ]
  },
  {
   "cell_type": "code",
   "execution_count": 13,
   "metadata": {},
   "outputs": [],
   "source": [
    "#graded\n",
    "def sampleVisibleLayer(h_sample, D):\n",
    "    # complete the following function such that vPdf has the sum of entries equal to 1 for each of the datapoints in the batch\n",
    "    # you have to use axis = 1 in writing the denominator\n",
    "    #numerator = sigmoid(np.dot(h_sample,W.T)+ visibleBias) # ~1 line\n",
    "        \n",
    "    numerator = np.exp(np.dot(h_sample, W.T) + visibleBias) # used softmax here , instead of sigmoid\n",
    "    denominator = numerator.sum(axis=1,keepdims=True)\n",
    "    vPdf = numerator/denominator # ~1 line\n",
    "    \n",
    "    # Here np.random.multinomial is used to sample as each document has different number of words \n",
    "    # and hence D is also a parameter in sampling\n",
    "    v_sample = np.zeros((batchSize, vPdf.shape[1]))\n",
    "    for i in range(batchSize):\n",
    "        v_sample[i] = np_rng.multinomial(size=1, n=D[i], pvals=vPdf[i])\n",
    "    return [vPdf, v_sample]"
   ]
  },
  {
   "cell_type": "markdown",
   "metadata": {},
   "source": [
    "### Sampling"
   ]
  },
  {
   "cell_type": "markdown",
   "metadata": {},
   "source": [
    "We use the above functions to write the function *gibbs* to run one iteration of gibbs sampling. Note that we are calculating the visible layer samples first and then using it to calculate he hidden layer sample. It'll become clear soon why we are doing so when you write the function for Contrastive Divergence.\n",
    "    \n",
    "    Input:\n",
    "    h_sample: given hidden layer matrix; matrix because a batch of data points will be trained at one go\n",
    "    D: array of the sum of the row of the data vector; vector containing number of words in each document\n",
    "    \n",
    "    Output:\n",
    "    vPdf: distribution of visible layer\n",
    "    v_sample: sampled visible layer matrix\n",
    "    hPdf: distribution of hidden layer\n",
    "    h_sample: sampled hidden layer matrix"
   ]
  },
  {
   "cell_type": "code",
   "execution_count": 14,
   "metadata": {},
   "outputs": [],
   "source": [
    "#graded\n",
    "def gibbs(h_sample, D):\n",
    "          \n",
    "    #use sampleVIsibleLayer and sampleHiddenLayer \n",
    "    vPdf, v_sample =sampleVisibleLayer(h_sample, D) # ~1 line\n",
    "    hPdf, h_sample = sampleHiddenLayer(v_sample) # ~1 line\n",
    "    return [vPdf, v_sample, hPdf, h_sample ]"
   ]
  },
  {
   "cell_type": "markdown",
   "metadata": {},
   "source": [
    "\n",
    "### Contrastive Divergence\n",
    "\n",
    "You have learned that Contrastive Divergence updates weights after one iteration of Gibbs Sampling. Here, we shall perform *k* such iterations in Contrastive Divergence. \n",
    "The update of the weight matrix happens post the Contrastive Divergence step. "
   ]
  },
  {
   "cell_type": "markdown",
   "metadata": {},
   "source": [
    "\n",
    "Now, we will writing a funtion to run the contrastive divergence algorithm in k steps\n",
    "    \n",
    "    Input:\n",
    "    data: batch data (visible layer)\n",
    "    k: no of iterations for gibbs sampling\n",
    "    \n",
    "    Output:\n",
    "    hiddenPDF_data: distribution of the hidden layer based on data\n",
    "    visibleSamples: visible samples generated by gibbs sampling \n",
    "    hiddenPDF: distribution of the hidden layer based on samples generated by gibbs"
   ]
  },
  {
   "cell_type": "code",
   "execution_count": 15,
   "metadata": {},
   "outputs": [],
   "source": [
    "#graded\n",
    "def cd_k(data,k):\n",
    "    D = data.sum(axis=1)\n",
    "    hiddenPDF_data, hiddenSample_data = sampleHiddenLayer(data) # sample the hidden layer using the input data\n",
    "    chain_start = hiddenSample_data\n",
    "\n",
    "    for step in range(k):\n",
    "        if step == 0:\n",
    "            visiblePDF, visibleSamples, hiddenPDF, hiddenSamples  = gibbs(chain_start, D)# perform gibbs sampling using chain_start\n",
    "        else:\n",
    "            visiblePDF, visibleSamples, hiddenPDF, hiddenSamples = gibbs(hiddenSamples, D)# perform gibbs sampling using hiddenSamples\n",
    "    return hiddenPDF_data, visibleSamples, hiddenPDF\n"
   ]
  },
  {
   "cell_type": "markdown",
   "metadata": {},
   "source": [
    "## Training the Model\n",
    "\n",
    "Vectors $v_0$ and $v_k$ are used to calculate the activation probabilities for hidden layers $p(h_0|v_0)$ and $p(h_k|v_k)$ (Eq.4). The difference between the outer products of those probabilities with input vectors $v_0$ and $v_k$ results in the update matrix:\n",
    "<img src=\"figure9.png\" width=\"300\" height=\"200\" title=\"Layers in RBM\">\n",
    "Eq. 6. Update matrix. **Figure out** the vectorized implementation for this.\n",
    "\n",
    "In order to calculate $\\Delta (bias)$, <br>\n",
    "<center>$\\Delta (visiblebias) = average\\_ across\\_ batch(v_0 - v_k)$ </center> \n",
    "<center>$\\Delta (hiddenbias) = average\\_across\\_ batch(p(h_0|v_0) - p(h_k|v_k))$ </center> \n",
    "\n",
    "Using the update matrix the new weights can be calculated with momentum gradient ascent, given by:\n",
    "<center>  $mW_t = \\gamma \\ mW_{t-1} - \\Delta W$</center> \n",
    "<center>  $mvisiblebias_t = \\gamma \\ mvisiblebias_{t-1} - \\Delta visiblebias$</center>\n",
    "<center>  $mhiddenbias_t = \\gamma \\ mhiddenbias_{t-1} - \\Delta hiddenbias$</center><br>\n",
    "<center>  $W_t = W_{t-1} + \\alpha \\ mW_t$</center> \n",
    "<center>  $visiblebias_t = visiblebias_{t-1} + \\alpha \\ mvisiblebias_t$</center> \n",
    "<center>  $hiddenbias_t = hiddenbias_{t-1} + \\alpha \\ mhiddenbias_t$</center> \n",
    "\n",
    "\n",
    "Eq. 7. Update rule for the weights.\n",
    "\n",
    "Note that in the code implementation below <br>\n",
    " hiddenPDF_data is $p(h_0|v_0)$ <br>\n",
    " visibleSamples is $v_k$ <br>\n",
    " hiddenPDF is $p(h_k|v_k)$ <br>\n",
    " mdata is $v_0$ <br>\n",
    " eta is $\\alpha$ <br>\n",
    " mrate is $\\gamma$ <br>\n",
    "These will be helpful in writing the weight updates.\n",
    "\n",
    "In this we will write a function which iterates over our data for *epochs*.\n",
    "At every epoch we shuffle the data and then run CD on a mini batch size defined by *batchSize*"
   ]
  },
  {
   "cell_type": "markdown",
   "metadata": {},
   "source": [
    "### Initializations"
   ]
  },
  {
   "cell_type": "code",
   "execution_count": 16,
   "metadata": {},
   "outputs": [],
   "source": [
    "\"\"\"\n",
    "visibleUnits: no of words in your Bag of words Model\n",
    "hiddenUnits: no of topics\n",
    "batchSize: data slice to be selected \n",
    "epochs: no of iterations\n",
    "eta: learning rate\n",
    "mrate: momentum coefficient\n",
    "W : weights between the visible and hidden layer\n",
    "visibleBias, hiddenBias: biases for visible and hidden layer respectively\n",
    "\"\"\"\n",
    "\n",
    "# define batch size\n",
    "batchSize = 200\n",
    "\n",
    "epochs = 100\n",
    "eta = 0.05 \n",
    "mrate = 0.5\n",
    "\n",
    "# initialise weights\n",
    "weightinit=0.01\n",
    "W = weightinit * np_rng.randn(visibleUnits, hiddenUnits)\n",
    "visibleBias = weightinit * np_rng.randn(visibleUnits)\n",
    "hiddenBias = np.zeros((hiddenUnits))\n",
    "\n",
    "# we shall use 10 interations of gibbs sampling\n",
    "k=10\n"
   ]
  },
  {
   "cell_type": "markdown",
   "metadata": {},
   "source": [
    "### Training"
   ]
  },
  {
   "cell_type": "code",
   "execution_count": 17,
   "metadata": {},
   "outputs": [],
   "source": [
    "#graded\n",
    "def train(dataX,k):\n",
    "    mW = np.zeros((visibleUnits, hiddenUnits))# initialise momentum_weights\n",
    "    mvisibleBias = np.zeros(visibleUnits) # initialise momentum_visiblebiases\n",
    "    mhiddenBias =  np.zeros((hiddenUnits)) # initialise momentum_hiddenbiases\n",
    "    global W,visibleBias,hiddenBias,mrate,batchSize,epochs # calling the variables initiliazed at the begining\n",
    "    for epoch in range(epochs):\n",
    "        np_rng.shuffle(dataX) #shuffling the data\n",
    "        #print(\"\\n\",\"epochs :\" , epoch)\n",
    "        for i in range(0, dataX.shape[0], batchSize):\n",
    "            mData = dataX[i:i+batchSize]#select a batch of datapoints\n",
    "            hiddenPDF_data, visibleSamples, hiddenPDF = cd_k(mData,k) # perfrom Contrastive Divergence on the batch for k iterations\n",
    "\n",
    "            mW = (mrate * mW)- np.outer(np.mean(mData),np.mean(hiddenPDF_data)) - np.outer(np.mean(visibleSamples),np.mean(hiddenPDF)) #write the momentum update equation for weight matrix\n",
    "            mvisibleBias =  mrate * mvisibleBias-np.mean(mData - visibleSamples)#write the momentum update equation for visiblebias vector\n",
    "            mhiddenBias =  mrate*mhiddenBias - np.mean(hiddenPDF_data - hiddenPDF)#write the momentum update equation for hiddenbias vector\n",
    "            \n",
    "            W =  W + eta * mW #weight update equation\n",
    "            visibleBias = visibleBias + eta * mvisibleBias #visible bias update equation\n",
    "            hiddenBias =  hiddenBias + eta * mhiddenBias #hidden bias update equation"
   ]
  },
  {
   "cell_type": "markdown",
   "metadata": {},
   "source": [
    "## Train the Model\n",
    "\n",
    "This will take around 10 minutes of time to run."
   ]
  },
  {
   "cell_type": "code",
   "execution_count": 18,
   "metadata": {},
   "outputs": [],
   "source": [
    "train(trainX.toarray(),k)"
   ]
  },
  {
   "cell_type": "markdown",
   "metadata": {},
   "source": [
    "# Word Distribution based on Topics\n",
    "In this function, we are finding the distribution of words over the topics. You can take a look at the words under each topic and see what they are talking about. The number of topics is the number of neurons in the hidden layer. <br>\n",
    "<br>\n",
    "\n",
    "For each topic, the function prints the top 15 words that describe the topic. You can see that some of the words occur in multiple topics.\n",
    "\n",
    "    topic: number of hidden layers\n",
    "    voc: indexing of the vocabulary\n",
    "    \n",
    "Feel free to change the number of iterations of gibbs sampling in Contrastive Divergence and see how the distribution of words change under the topics."
   ]
  },
  {
   "cell_type": "code",
   "execution_count": 19,
   "metadata": {},
   "outputs": [],
   "source": [
    "def worddist( topic, voc):\n",
    "    \n",
    "    \"\"\"\n",
    "    Initialize every topic =1 once \n",
    "    \"\"\"\n",
    "    vecTopics = np.zeros((topic, topic))\n",
    "    for i in range(len(vecTopics)):\n",
    "        vecTopics[i][i] = 1\n",
    "    \n",
    "    \n",
    "    for i, vecTopic in enumerate(vecTopics):\n",
    "       \n",
    "        numerator = np.exp(np.dot(vecTopic, W.T) + visibleBias)\n",
    "        denominator = numerator.sum().reshape((1, 1))\n",
    "        word_distribution = (numerator/denominator).flatten()\n",
    "        \n",
    "        tmpDict = {}\n",
    "        for j in voc.keys():\n",
    "            tmpDict[j] = word_distribution[voc[j]]\n",
    "        print('topic', str(i), ':', vecTopic)\n",
    "        lm=0\n",
    "        for word, prob in sorted(tmpDict.items(), key=lambda x:x[1], reverse=True):\n",
    "            print ( word, str(prob))\n",
    "            lm+=1\n",
    "            if lm==15:\n",
    "                break\n",
    "        print('\\n')"
   ]
  },
  {
   "cell_type": "code",
   "execution_count": 20,
   "metadata": {},
   "outputs": [
    {
     "name": "stdout",
     "output_type": "stream",
     "text": [
      "topic 0 : [1. 0. 0. 0. 0.]\n",
      "350 0.0005729994727364637\n",
      "back 0.00056963195207376\n",
      "strap 0.0005674866938756555\n",
      "some 0.0005673117222366925\n",
      "course 0.0005672863160167337\n",
      "soft 0.0005671560023019017\n",
      "jawbone 0.0005671144958172309\n",
      "colored 0.0005670646938623414\n",
      "whole 0.000566908716852473\n",
      "smoothly 0.0005666777425984293\n",
      "seconds 0.0005665392905290495\n",
      "flush 0.0005662965710226915\n",
      "research 0.0005658246523937155\n",
      "songs 0.0005654780728235254\n",
      "whatsoever 0.0005654075658245419\n",
      "\n",
      "\n",
      "topic 1 : [0. 1. 0. 0. 0.]\n",
      "source 0.0005734826302189711\n",
      "fully 0.0005716423604511293\n",
      "windows 0.0005695816092361426\n",
      "moving 0.0005678097278569539\n",
      "chargers 0.0005676646385244818\n",
      "appears 0.0005670473483645487\n",
      "beep 0.0005669614182773569\n",
      "checked 0.0005663472669485715\n",
      "procedure 0.0005663346491395022\n",
      "hoping 0.0005663336544000306\n",
      "course 0.0005663317465675674\n",
      "year 0.0005662421973160233\n",
      "frequently4 0.000566113252139499\n",
      "metal 0.0005658177323240646\n",
      "took 0.0005657607961469397\n",
      "\n",
      "\n",
      "topic 2 : [0. 0. 1. 0. 0.]\n",
      "krussel 0.0005727240160264905\n",
      "really 0.0005705391587921521\n",
      "appears 0.0005696644085146434\n",
      "certain 0.0005695072027951628\n",
      "crack 0.0005687940090609142\n",
      "chargers 0.0005687222111894721\n",
      "fully 0.0005683754960716531\n",
      "actually 0.00056780936524363\n",
      "color 0.0005677100706363639\n",
      "connecting 0.0005674886625940727\n",
      "transfer 0.0005674610456279793\n",
      "jabra350 0.0005674340784991271\n",
      "casing 0.0005672043695860408\n",
      "numbers 0.0005666011653972634\n",
      "accidentally 0.0005665506020976687\n",
      "\n",
      "\n",
      "topic 3 : [0. 0. 0. 1. 0.]\n",
      "week 0.0005760629131802349\n",
      "source 0.0005742995393573871\n",
      "address 0.0005725839978953024\n",
      "flops 0.0005695385923209448\n",
      "adapters 0.0005689385191190956\n",
      "build 0.000568820853775622\n",
      "fire 0.0005684755549474546\n",
      "comes 0.000568400915771234\n",
      "glad 0.0005683562784327612\n",
      "good7 0.0005683247883422921\n",
      "searched 0.0005683224280411655\n",
      "some 0.000568219022750022\n",
      "red 0.0005677694139075484\n",
      "laptop 0.0005677432336082584\n",
      "protection 0.00056727519031533\n",
      "\n",
      "\n",
      "topic 4 : [0. 0. 0. 0. 1.]\n",
      "submerged 0.0005731172379444364\n",
      "takes 0.0005722608990123479\n",
      "discomfort 0.0005712076725565747\n",
      "recharge 0.000571144211010922\n",
      "back 0.0005705602798897754\n",
      "thats 0.000569530423620829\n",
      "eye 0.000569330340594079\n",
      "monkeys 0.0005689024090938912\n",
      "jawbone 0.0005685694482226613\n",
      "wonderfully 0.0005683835146605591\n",
      "directed 0.0005676396029051739\n",
      "wallet 0.0005674854349856542\n",
      "rubber 0.0005665414182922159\n",
      "removing 0.0005663667928773338\n",
      "them 0.000566332931489801\n",
      "\n",
      "\n"
     ]
    }
   ],
   "source": [
    "worddist( hiddenUnits, tf.vocabulary_)"
   ]
  },
  {
   "cell_type": "markdown",
   "metadata": {},
   "source": [
    "The output shows the probability assigned to each word for ever topic present."
   ]
  }
 ],
 "metadata": {
  "anaconda-cloud": {},
  "kernelspec": {
   "display_name": "Python 3",
   "language": "python",
   "name": "python3"
  },
  "language_info": {
   "codemirror_mode": {
    "name": "ipython",
    "version": 3
   },
   "file_extension": ".py",
   "mimetype": "text/x-python",
   "name": "python",
   "nbconvert_exporter": "python",
   "pygments_lexer": "ipython3",
   "version": "3.7.3"
  }
 },
 "nbformat": 4,
 "nbformat_minor": 1
}
